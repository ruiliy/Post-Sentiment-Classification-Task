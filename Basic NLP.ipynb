{
  "nbformat": 4,
  "nbformat_minor": 0,
  "metadata": {
    "colab": {
      "name": "Copy of Copy of TaD Coursework Skeleton 2021 - May-June",
      "provenance": [],
      "collapsed_sections": []
    },
    "kernelspec": {
      "name": "python3",
      "display_name": "Python 3"
    }
  },
  "cells": [
    {
      "cell_type": "markdown",
      "metadata": {
        "id": "2gv2i9fNDvrg"
      },
      "source": [
        "## Post Sentiment Classification Task"
      ]
    },
    {
      "cell_type": "code",
      "metadata": {
        "id": "ZG9BpbQt3-ko"
      },
      "source": [
        "import pandas as pd\n",
        "import numpy as np\n",
        "\n",
        "train_data = pd.read_json(\"https://raw.githubusercontent.com/rpsoft/tad_course/main/reddit_sentiment_train.json\")\n",
        "\n",
        "validation_data = pd.read_json(\"https://raw.githubusercontent.com/rpsoft/tad_course/main/reddit_sentiment_validation.json\")\n",
        "\n",
        "test_data = pd.read_json(\"https://raw.githubusercontent.com/rpsoft/tad_course/main/reddit_sentiment_test.json\")"
      ],
      "execution_count": null,
      "outputs": []
    },
    {
      "cell_type": "code",
      "metadata": {
        "id": "REvXkGRbdx0i"
      },
      "source": [
        "# Your code here\n",
        "#import\n",
        "import sys\n",
        "import spacy\n",
        "import itertools\n",
        "# Load the small english model.\n",
        "nlp = spacy.load('en_core_web_sm', disable=['ner'])\n",
        "nlp.remove_pipe('tagger')\n",
        "nlp.remove_pipe('parser')\n",
        "from sklearn.preprocessing import OneHotEncoder\n",
        "from sklearn.feature_extraction.text import CountVectorizer\n",
        "from sklearn.feature_extraction.text import TfidfVectorizer\n",
        "from sklearn.dummy import DummyClassifier"
      ],
      "execution_count": null,
      "outputs": []
    },
    {
      "cell_type": "code",
      "metadata": {
        "id": "wpjUDv4gawBU"
      },
      "source": [
        "from sklearn.metrics import classification_report\n",
        "from sklearn.metrics import confusion_matrix\n",
        "from sklearn.metrics import precision_score\n",
        "from sklearn.metrics import recall_score\n",
        "from sklearn.metrics import accuracy_score\n",
        "from sklearn.metrics import fbeta_score\n",
        "\n",
        "def evaluation_summary(description, predictions, true_labels):\n",
        "  eval = []\n",
        "  print(\"Evaluation for: \" + description)\n",
        "  precision = precision_score(predictions, true_labels, average='macro')\n",
        "  eval.append(precision)\n",
        "  recall = recall_score(predictions, true_labels, average='macro')\n",
        "  eval.append(recall)\n",
        "  accuracy = accuracy_score(predictions, true_labels)\n",
        "  f1 = fbeta_score(predictions, true_labels, 1,average='macro') #1 means f_1 measure\n",
        "\n",
        "  print(\"Classifier '%s' has Acc=%0.3f P=%0.3f R=%0.3f F1=%0.3f\" % (description,accuracy,precision,recall,f1))\n",
        "  print(classification_report(predictions, true_labels, digits=3, zero_division = 0))\n",
        "  print('\\nConfusion matrix:\\n',confusion_matrix(true_labels, predictions)) # Note the order here is true, predicted"
      ],
      "execution_count": null,
      "outputs": []
    },
    {
      "cell_type": "code",
      "metadata": {
        "id": "4NGGtMuA8qZ0"
      },
      "source": [
        "#process the data\n",
        "#reset the index\n",
        "train_data.reset_index(drop=True, inplace=True)\n",
        "validation_data.reset_index(drop=True, inplace=True)\n",
        "test_data.reset_index(drop=True, inplace=True)"
      ],
      "execution_count": null,
      "outputs": []
    },
    {
      "cell_type": "code",
      "metadata": {
        "colab": {
          "base_uri": "https://localhost:8080/",
          "height": 1000
        },
        "id": "5HHni6e3Nli8",
        "outputId": "b8c777fc-cd55-4bf7-ac81-77d174fcf875"
      },
      "source": [
        "train_data"
      ],
      "execution_count": null,
      "outputs": [
        {
          "output_type": "execute_result",
          "data": {
            "text/html": [
              "<div>\n",
              "<style scoped>\n",
              "    .dataframe tbody tr th:only-of-type {\n",
              "        vertical-align: middle;\n",
              "    }\n",
              "\n",
              "    .dataframe tbody tr th {\n",
              "        vertical-align: top;\n",
              "    }\n",
              "\n",
              "    .dataframe thead th {\n",
              "        text-align: right;\n",
              "    }\n",
              "</style>\n",
              "<table border=\"1\" class=\"dataframe\">\n",
              "  <thead>\n",
              "    <tr style=\"text-align: right;\">\n",
              "      <th></th>\n",
              "      <th>subreddit</th>\n",
              "      <th>title</th>\n",
              "      <th>id</th>\n",
              "      <th>url</th>\n",
              "      <th>author</th>\n",
              "      <th>body</th>\n",
              "      <th>majority_type</th>\n",
              "      <th>is_first_post</th>\n",
              "      <th>post_depth</th>\n",
              "      <th>in_reply_to</th>\n",
              "      <th>sentiment.polarity</th>\n",
              "      <th>sentiment.subjectivity</th>\n",
              "    </tr>\n",
              "  </thead>\n",
              "  <tbody>\n",
              "    <tr>\n",
              "      <th>0</th>\n",
              "      <td>relationships</td>\n",
              "      <td>My Friend/Crush [22/F] acting weird after I [2...</td>\n",
              "      <td>t1_cy7f317</td>\n",
              "      <td>https://www.reddit.com/r/relationships/comment...</td>\n",
              "      <td>Melodrama_</td>\n",
              "      <td>It's a sad realization, isn't it?</td>\n",
              "      <td></td>\n",
              "      <td>False</td>\n",
              "      <td>2</td>\n",
              "      <td>t1_cy7erc5</td>\n",
              "      <td>negative</td>\n",
              "      <td>1.000000</td>\n",
              "    </tr>\n",
              "    <tr>\n",
              "      <th>1</th>\n",
              "      <td>relationships</td>\n",
              "      <td>My Friend/Crush [22/F] acting weird after I [2...</td>\n",
              "      <td>t1_cy7hlyf</td>\n",
              "      <td>https://www.reddit.com/r/relationships/comment...</td>\n",
              "      <td>Melodrama_</td>\n",
              "      <td>I told her a couple of minutes ago that I didn...</td>\n",
              "      <td>elaboration</td>\n",
              "      <td>False</td>\n",
              "      <td>2</td>\n",
              "      <td>t1_cy7erc5</td>\n",
              "      <td>neutral</td>\n",
              "      <td>0.483631</td>\n",
              "    </tr>\n",
              "    <tr>\n",
              "      <th>2</th>\n",
              "      <td>relationships</td>\n",
              "      <td>My Friend/Crush [22/F] acting weird after I [2...</td>\n",
              "      <td>t1_cy7etrr</td>\n",
              "      <td>https://www.reddit.com/r/relationships/comment...</td>\n",
              "      <td>TreatYoSelves</td>\n",
              "      <td>Leeches don't make good friends.</td>\n",
              "      <td>answer</td>\n",
              "      <td>False</td>\n",
              "      <td>1</td>\n",
              "      <td>t3_3xshx9</td>\n",
              "      <td>positive</td>\n",
              "      <td>0.600000</td>\n",
              "    </tr>\n",
              "    <tr>\n",
              "      <th>3</th>\n",
              "      <td>relationships</td>\n",
              "      <td>My Friend/Crush [22/F] acting weird after I [2...</td>\n",
              "      <td>t1_cy7hhpq</td>\n",
              "      <td>https://www.reddit.com/r/relationships/comment...</td>\n",
              "      <td>Melodrama_</td>\n",
              "      <td>I just ended it. Apparently she wasn't a good ...</td>\n",
              "      <td>elaboration</td>\n",
              "      <td>False</td>\n",
              "      <td>2</td>\n",
              "      <td>t1_cy7etrr</td>\n",
              "      <td>positive</td>\n",
              "      <td>0.475000</td>\n",
              "    </tr>\n",
              "    <tr>\n",
              "      <th>4</th>\n",
              "      <td>relationships</td>\n",
              "      <td>My Friend/Crush [22/F] acting weird after I [2...</td>\n",
              "      <td>t1_cy7q0qg</td>\n",
              "      <td>https://www.reddit.com/r/relationships/comment...</td>\n",
              "      <td>TreatYoSelves</td>\n",
              "      <td>Good for you!  Make sure you stick with it.</td>\n",
              "      <td>appreciation</td>\n",
              "      <td>False</td>\n",
              "      <td>3</td>\n",
              "      <td>t1_cy7hhpq</td>\n",
              "      <td>positive</td>\n",
              "      <td>0.744444</td>\n",
              "    </tr>\n",
              "    <tr>\n",
              "      <th>...</th>\n",
              "      <td>...</td>\n",
              "      <td>...</td>\n",
              "      <td>...</td>\n",
              "      <td>...</td>\n",
              "      <td>...</td>\n",
              "      <td>...</td>\n",
              "      <td>...</td>\n",
              "      <td>...</td>\n",
              "      <td>...</td>\n",
              "      <td>...</td>\n",
              "      <td>...</td>\n",
              "      <td>...</td>\n",
              "    </tr>\n",
              "    <tr>\n",
              "      <th>12133</th>\n",
              "      <td>reddit.com</td>\n",
              "      <td>If I announced myself as God right now, would ...</td>\n",
              "      <td>t1_c1zpyd0</td>\n",
              "      <td>https://www.reddit.com/r/reddit.com/comments/h...</td>\n",
              "      <td></td>\n",
              "      <td>If you were God, you'd know whether we would b...</td>\n",
              "      <td>answer</td>\n",
              "      <td>False</td>\n",
              "      <td>1</td>\n",
              "      <td>t3_hzu51</td>\n",
              "      <td>neutral</td>\n",
              "      <td>0.000000</td>\n",
              "    </tr>\n",
              "    <tr>\n",
              "      <th>12134</th>\n",
              "      <td>reddit.com</td>\n",
              "      <td>If I announced myself as God right now, would ...</td>\n",
              "      <td>t1_c1zpz7m</td>\n",
              "      <td>https://www.reddit.com/r/reddit.com/comments/h...</td>\n",
              "      <td>TheCannon</td>\n",
              "      <td>If I check my account balance in 5 minutes and...</td>\n",
              "      <td>answer</td>\n",
              "      <td>False</td>\n",
              "      <td>1</td>\n",
              "      <td>t3_hzu51</td>\n",
              "      <td>neutral</td>\n",
              "      <td>0.000000</td>\n",
              "    </tr>\n",
              "    <tr>\n",
              "      <th>12135</th>\n",
              "      <td>reddit.com</td>\n",
              "      <td>If I announced myself as God right now, would ...</td>\n",
              "      <td>t1_c1zq0tl</td>\n",
              "      <td>https://www.reddit.com/r/reddit.com/comments/h...</td>\n",
              "      <td>alllie</td>\n",
              "      <td>I don't know. Can you heal the sick with a tou...</td>\n",
              "      <td>answer</td>\n",
              "      <td>False</td>\n",
              "      <td>1</td>\n",
              "      <td>t3_hzu51</td>\n",
              "      <td>negative</td>\n",
              "      <td>0.637202</td>\n",
              "    </tr>\n",
              "    <tr>\n",
              "      <th>12136</th>\n",
              "      <td>reddit.com</td>\n",
              "      <td>If I announced myself as God right now, would ...</td>\n",
              "      <td>t1_c1zq19j</td>\n",
              "      <td>https://www.reddit.com/r/reddit.com/comments/h...</td>\n",
              "      <td>TheCannon</td>\n",
              "      <td>... Give LeBron James a championship ring?</td>\n",
              "      <td>humor</td>\n",
              "      <td>False</td>\n",
              "      <td>2</td>\n",
              "      <td>t1_c1zq0tl</td>\n",
              "      <td>neutral</td>\n",
              "      <td>0.000000</td>\n",
              "    </tr>\n",
              "    <tr>\n",
              "      <th>12137</th>\n",
              "      <td>reddit.com</td>\n",
              "      <td>If I announced myself as God right now, would ...</td>\n",
              "      <td>t1_c1zqg1w</td>\n",
              "      <td>https://www.reddit.com/r/reddit.com/comments/h...</td>\n",
              "      <td>blueiiiis</td>\n",
              "      <td>Well, if you believed it, that'd be one</td>\n",
              "      <td>answer</td>\n",
              "      <td>False</td>\n",
              "      <td>1</td>\n",
              "      <td>t3_hzu51</td>\n",
              "      <td>neutral</td>\n",
              "      <td>0.000000</td>\n",
              "    </tr>\n",
              "  </tbody>\n",
              "</table>\n",
              "<p>12138 rows × 12 columns</p>\n",
              "</div>"
            ],
            "text/plain": [
              "           subreddit  ... sentiment.subjectivity\n",
              "0      relationships  ...               1.000000\n",
              "1      relationships  ...               0.483631\n",
              "2      relationships  ...               0.600000\n",
              "3      relationships  ...               0.475000\n",
              "4      relationships  ...               0.744444\n",
              "...              ...  ...                    ...\n",
              "12133     reddit.com  ...               0.000000\n",
              "12134     reddit.com  ...               0.000000\n",
              "12135     reddit.com  ...               0.637202\n",
              "12136     reddit.com  ...               0.000000\n",
              "12137     reddit.com  ...               0.000000\n",
              "\n",
              "[12138 rows x 12 columns]"
            ]
          },
          "metadata": {
            "tags": []
          },
          "execution_count": 5
        }
      ]
    },
    {
      "cell_type": "code",
      "metadata": {
        "id": "rsciX_b44oA-"
      },
      "source": [
        "#replace labels\n",
        "def create_label(x):\n",
        "    if x == 'neutral':\n",
        "      return 2\n",
        "    elif x == 'positive':\n",
        "      return 3\n",
        "    elif x == 'negative':\n",
        "      return 1\n",
        "    elif x == 'very positive':\n",
        "      return 4\n",
        "    elif x == 'very negative':\n",
        "      return 0 \n",
        "\n",
        "labels = []\n",
        "temp = train_data['sentiment.polarity']\n",
        "for i in range(12138):\n",
        "  labels.append(create_label(temp[i]))\n",
        "train_data.insert(12,'labels',labels)\n",
        "\n",
        "\n",
        "labels = []\n",
        "temp = validation_data['sentiment.polarity']\n",
        "for i in range(3109):\n",
        "  labels.append(create_label(temp[i]))\n",
        "validation_data.insert(12,'labels',labels)\n",
        "\n",
        "labels = []\n",
        "temp = test_data['sentiment.polarity']\n",
        "for i in range(4016):\n",
        "  labels.append(create_label(temp[i]))\n",
        "test_data.insert(12,'labels',labels)"
      ],
      "execution_count": null,
      "outputs": []
    },
    {
      "cell_type": "code",
      "metadata": {
        "colab": {
          "base_uri": "https://localhost:8080/"
        },
        "id": "Sh5v0bxR_zeC",
        "outputId": "b0b83062-017a-44b2-8a0c-ffa8357ca865"
      },
      "source": [
        "#data is imbalance\n",
        "validation_labels = validation_data['labels']\n",
        "validation_labels_counts = validation_labels.value_counts()\n",
        "print (validation_labels_counts.head())\n",
        "\n",
        "train_labels = train_data['labels']\n",
        "train_labels_counts = train_labels.value_counts()\n",
        "print (train_labels_counts.head())\n",
        "\n",
        "test_labels = test_data['labels']\n",
        "test_labels_counts = test_labels.value_counts()\n",
        "print (test_labels_counts.head())"
      ],
      "execution_count": null,
      "outputs": [
        {
          "output_type": "stream",
          "text": [
            "2    1961\n",
            "3     845\n",
            "1     215\n",
            "4      73\n",
            "0      15\n",
            "Name: labels, dtype: int64\n",
            "2    7679\n",
            "3    3231\n",
            "1     878\n",
            "4     253\n",
            "0      97\n",
            "Name: labels, dtype: int64\n",
            "2    2514\n",
            "3    1102\n",
            "1     282\n",
            "4      86\n",
            "0      32\n",
            "Name: labels, dtype: int64\n"
          ],
          "name": "stdout"
        }
      ]
    },
    {
      "cell_type": "code",
      "metadata": {
        "id": "sp9SXeEGACxJ"
      },
      "source": [
        "#Tokenize\n",
        "def spacy_tokenize(string):\n",
        "  tokens = list()\n",
        "  doc = nlp(string)\n",
        "  for token in doc:\n",
        "    tokens.append(token)\n",
        "  return tokens\n",
        "\n",
        "#Normalize\n",
        "def normalize(tokens):\n",
        "  normalized = list()\n",
        "  for token in tokens:\n",
        "    #check letter\n",
        "    if (token.is_alpha):\n",
        "      lemma = token.lemma_.lower().strip() if token.lemma_ != \"-PRON-\" else token.lower_\n",
        "      normalized.append(lemma)\n",
        "  return normalized\n",
        "\n",
        "#Tokenize and normalize\n",
        "def tokenize_normalize(string):\n",
        "  return normalize(spacy_tokenize(string))"
      ],
      "execution_count": null,
      "outputs": []
    },
    {
      "cell_type": "code",
      "metadata": {
        "id": "lfXxNuwySBIP"
      },
      "source": [
        "#one hot encoding\n",
        "one_hot_vectorizer = CountVectorizer(tokenizer=tokenize_normalize, binary=True)\n",
        "train_features = one_hot_vectorizer.fit_transform(train_data['body'])\n",
        "validation_features = one_hot_vectorizer.transform(validation_data['body'])\n",
        "test_features = one_hot_vectorizer.transform(test_data['body'])"
      ],
      "execution_count": null,
      "outputs": []
    },
    {
      "cell_type": "code",
      "metadata": {
        "colab": {
          "base_uri": "https://localhost:8080/"
        },
        "id": "5j-Crv5TS_G-",
        "outputId": "36891339-479a-44b9-fa05-f25b4681a8e4"
      },
      "source": [
        "print(validation_features)"
      ],
      "execution_count": null,
      "outputs": [
        {
          "output_type": "stream",
          "text": [
            "  (0, 489)\t1\n",
            "  (0, 735)\t1\n",
            "  (0, 1134)\t1\n",
            "  (0, 1187)\t1\n",
            "  (0, 1418)\t1\n",
            "  (0, 2704)\t1\n",
            "  (0, 4272)\t1\n",
            "  (0, 5007)\t1\n",
            "  (0, 5920)\t1\n",
            "  (0, 5970)\t1\n",
            "  (0, 6931)\t1\n",
            "  (0, 8644)\t1\n",
            "  (0, 9143)\t1\n",
            "  (0, 9146)\t1\n",
            "  (0, 12830)\t1\n",
            "  (0, 13387)\t1\n",
            "  (0, 13451)\t1\n",
            "  (1, 429)\t1\n",
            "  (1, 489)\t1\n",
            "  (1, 681)\t1\n",
            "  (1, 1187)\t1\n",
            "  (1, 1234)\t1\n",
            "  (1, 1992)\t1\n",
            "  (1, 2756)\t1\n",
            "  (1, 3709)\t1\n",
            "  :\t:\n",
            "  (3108, 489)\t1\n",
            "  (3108, 565)\t1\n",
            "  (3108, 1187)\t1\n",
            "  (3108, 1719)\t1\n",
            "  (3108, 1885)\t1\n",
            "  (3108, 4725)\t1\n",
            "  (3108, 5920)\t1\n",
            "  (3108, 6324)\t1\n",
            "  (3108, 6485)\t1\n",
            "  (3108, 6910)\t1\n",
            "  (3108, 7353)\t1\n",
            "  (3108, 9014)\t1\n",
            "  (3108, 9212)\t1\n",
            "  (3108, 9331)\t1\n",
            "  (3108, 9960)\t1\n",
            "  (3108, 10121)\t1\n",
            "  (3108, 11596)\t1\n",
            "  (3108, 11731)\t1\n",
            "  (3108, 12867)\t1\n",
            "  (3108, 13381)\t1\n",
            "  (3108, 13387)\t1\n",
            "  (3108, 13585)\t1\n",
            "  (3108, 13854)\t1\n",
            "  (3108, 14449)\t1\n",
            "  (3108, 15110)\t1\n"
          ],
          "name": "stdout"
        }
      ]
    },
    {
      "cell_type": "code",
      "metadata": {
        "id": "KoIWVWLBCRoQ"
      },
      "source": [
        "#rf-idf default settings\n",
        "#raw_tfidf = TfidfVectorizer(sublinear_tf = True,ngram_range=(1,1), max_features = 5000,max_df=0.4)\n",
        "#raw_tfidf = TfidfVectorizer(sublinear_tf = True, ngram_range=(1,1), max_features = 5000, max_df=0.9)\n",
        "raw_tfidf = TfidfVectorizer(sublinear_tf = True, max_features = 8000, max_df=0.8)\n",
        "train_tfidf = raw_tfidf.fit_transform(train_data['body'])\n",
        "test_tfidf = raw_tfidf.transform(test_data['body'])\n",
        "validation_tfidf = raw_tfidf.transform(validation_data['body'])"
      ],
      "execution_count": null,
      "outputs": []
    },
    {
      "cell_type": "code",
      "metadata": {
        "colab": {
          "base_uri": "https://localhost:8080/"
        },
        "id": "mxbuCTvth4oW",
        "outputId": "2ee5c7a1-0cac-4b7e-b852-14dd64f90af6"
      },
      "source": [
        "#dummy_prior for the data\n",
        "dummy_prior = DummyClassifier(strategy='stratified')\n",
        "dummy_prior.fit(train_features, train_labels)\n",
        "print(dummy_prior.score(test_features, test_labels))\n",
        "evaluation_summary(\"Dummy Prior\", dummy_prior.predict(test_features), test_labels)\n",
        "\n",
        "evaluation_summary(\"Dummy Prior\", dummy_prior.predict(train_features), train_labels)\n",
        "\n",
        "dummy_mf = DummyClassifier(strategy='most_frequent')\n",
        "dummy_mf.fit(train_features, train_labels)\n",
        "print(dummy_mf.score(test_features, test_labels))\n",
        "evaluation_summary(\"Dummy Majority\", dummy_mf.predict(test_features), test_labels)\n",
        "evaluation_summary(\"Dummy Majority\", dummy_mf.predict(train_features), train_labels)"
      ],
      "execution_count": null,
      "outputs": [
        {
          "output_type": "stream",
          "text": [
            "0.4865537848605578\n",
            "Evaluation for: Dummy Prior\n",
            "Classifier 'Dummy Prior' has Acc=0.478 P=0.203 R=0.203 F1=0.203\n",
            "              precision    recall  f1-score   support\n",
            "\n",
            "           0      0.000     0.000     0.000        36\n",
            "           1      0.096     0.094     0.095       286\n",
            "           2      0.630     0.630     0.630      2516\n",
            "           3      0.279     0.278     0.278      1103\n",
            "           4      0.012     0.013     0.012        75\n",
            "\n",
            "    accuracy                          0.478      4016\n",
            "   macro avg      0.203     0.203     0.203      4016\n",
            "weighted avg      0.478     0.478     0.478      4016\n",
            "\n",
            "\n",
            "Confusion matrix:\n",
            " [[   0    3   19    9    1]\n",
            " [   2   27  169   78    6]\n",
            " [  24  178 1584  682   46]\n",
            " [   9   76  689  307   21]\n",
            " [   1    2   55   27    1]]\n",
            "Evaluation for: Dummy Prior\n",
            "Classifier 'Dummy Prior' has Acc=0.471 P=0.202 R=0.202 F1=0.202\n",
            "              precision    recall  f1-score   support\n",
            "\n",
            "           0      0.031     0.030     0.030       100\n",
            "           1      0.067     0.066     0.067       896\n",
            "           2      0.621     0.632     0.626      7547\n",
            "           3      0.275     0.267     0.271      3323\n",
            "           4      0.016     0.015     0.015       272\n",
            "\n",
            "    accuracy                          0.471     12138\n",
            "   macro avg      0.202     0.202     0.202     12138\n",
            "weighted avg      0.467     0.471     0.469     12138\n",
            "\n",
            "\n",
            "Confusion matrix:\n",
            " [[   3    7   57   30    0]\n",
            " [   4   59  560  233   22]\n",
            " [  53  565 4767 2112  182]\n",
            " [  36  248 1996  887   64]\n",
            " [   4   17  167   61    4]]\n",
            "0.625996015936255\n",
            "Evaluation for: Dummy Majority\n",
            "Classifier 'Dummy Majority' has Acc=0.626 P=0.200 R=0.125 F1=0.154\n",
            "              precision    recall  f1-score   support\n",
            "\n",
            "           0      0.000     0.000     0.000         0\n",
            "           1      0.000     0.000     0.000         0\n",
            "           2      1.000     0.626     0.770      4016\n",
            "           3      0.000     0.000     0.000         0\n",
            "           4      0.000     0.000     0.000         0\n",
            "\n",
            "    accuracy                          0.626      4016\n",
            "   macro avg      0.200     0.125     0.154      4016\n",
            "weighted avg      1.000     0.626     0.770      4016\n",
            "\n",
            "\n",
            "Confusion matrix:\n",
            " [[   0    0   32    0    0]\n",
            " [   0    0  282    0    0]\n",
            " [   0    0 2514    0    0]\n",
            " [   0    0 1102    0    0]\n",
            " [   0    0   86    0    0]]\n",
            "Evaluation for: Dummy Majority\n",
            "Classifier 'Dummy Majority' has Acc=0.633 P=0.200 R=0.127 F1=0.155\n",
            "              precision    recall  f1-score   support\n",
            "\n",
            "           0      0.000     0.000     0.000         0\n",
            "           1      0.000     0.000     0.000         0\n",
            "           2      1.000     0.633     0.775     12138\n",
            "           3      0.000     0.000     0.000         0\n",
            "           4      0.000     0.000     0.000         0\n",
            "\n",
            "    accuracy                          0.633     12138\n",
            "   macro avg      0.200     0.127     0.155     12138\n",
            "weighted avg      1.000     0.633     0.775     12138\n",
            "\n",
            "\n",
            "Confusion matrix:\n",
            " [[   0    0   97    0    0]\n",
            " [   0    0  878    0    0]\n",
            " [   0    0 7679    0    0]\n",
            " [   0    0 3231    0    0]\n",
            " [   0    0  253    0    0]]\n"
          ],
          "name": "stdout"
        },
        {
          "output_type": "stream",
          "text": [
            "/usr/local/lib/python3.7/dist-packages/sklearn/metrics/_classification.py:1272: UndefinedMetricWarning: Recall is ill-defined and being set to 0.0 in labels with no true samples. Use `zero_division` parameter to control this behavior.\n",
            "  _warn_prf(average, modifier, msg_start, len(result))\n"
          ],
          "name": "stderr"
        }
      ]
    },
    {
      "cell_type": "code",
      "metadata": {
        "colab": {
          "base_uri": "https://localhost:8080/"
        },
        "id": "yz_nQQOTzkuI",
        "outputId": "b0909e7b-3473-47d0-99c4-2f90714bc816"
      },
      "source": [
        "#mutiple logistic regression\n",
        "from sklearn.linear_model import LogisticRegression\n",
        "#lr = LogisticRegression(solver='saga', max_iter = 1000,multi_class='ovr')\n",
        "#lr_model = lr.fit(train_features, train_labels)\n",
        "#lr_model.predict(test_features)\n",
        "#evaluation_summary(\"LR onehot\", lr_model.predict(test_features), test_labels)\n",
        "#evaluation_summary(\"LR onehot\", lr_model.predict(train_features), train_labels)\n",
        "#mutiple logistic regression with tf-idf\n",
        "#lr = LogisticRegression(solver='saga',max_iter = 10, penalty = 'l2', C = 50)\n",
        "#lr = LogisticRegression(solver='saga',max_iter = 50, penalty = 'l1', C = 10)\n",
        "lr = LogisticRegression(solver='saga',penalty = 'l1',C = 4, max_iter = 100)\n",
        "lr_model = lr.fit(train_tfidf, train_labels)\n",
        "lr_model.predict(validation_tfidf)\n",
        "evaluation_summary(\"LR onehot\", lr_model.predict(validation_tfidf), validation_labels)\n",
        "evaluation_summary(\"LR onehot\", lr_model.predict(train_tfidf), train_labels)\n",
        "evaluation_summary(\"LR onehot\", lr_model.predict(test_tfidf), test_labels)"
      ],
      "execution_count": null,
      "outputs": [
        {
          "output_type": "stream",
          "text": [
            "Evaluation for: LR onehot\n",
            "Classifier 'LR onehot' has Acc=0.787 P=0.524 R=0.654 F1=0.572\n",
            "              precision    recall  f1-score   support\n",
            "\n",
            "           0      0.267     0.400     0.320        10\n",
            "           1      0.447     0.627     0.522       153\n",
            "           2      0.894     0.813     0.852      2157\n",
            "           3      0.672     0.755     0.711       752\n",
            "           4      0.342     0.676     0.455        37\n",
            "\n",
            "    accuracy                          0.787      3109\n",
            "   macro avg      0.524     0.654     0.572      3109\n",
            "weighted avg      0.810     0.787     0.795      3109\n",
            "\n",
            "\n",
            "Confusion matrix:\n",
            " [[   4    2    9    0    0]\n",
            " [   1   96  113    5    0]\n",
            " [   5   51 1754  145    6]\n",
            " [   0    4  267  568    6]\n",
            " [   0    0   14   34   25]]\n",
            "Evaluation for: LR onehot\n",
            "Classifier 'LR onehot' has Acc=0.933 P=0.802 R=0.938 F1=0.860\n",
            "              precision    recall  f1-score   support\n",
            "\n",
            "           0      0.629     0.924     0.748        66\n",
            "           1      0.764     0.950     0.847       706\n",
            "           2      0.980     0.930     0.954      8092\n",
            "           3      0.893     0.938     0.915      3076\n",
            "           4      0.743     0.949     0.834       198\n",
            "\n",
            "    accuracy                          0.933     12138\n",
            "   macro avg      0.802     0.938     0.860     12138\n",
            "weighted avg      0.939     0.933     0.935     12138\n",
            "\n",
            "\n",
            "Confusion matrix:\n",
            " [[  61   13   21    2    0]\n",
            " [   4  671  196    7    0]\n",
            " [   1   16 7523  139    0]\n",
            " [   0    6  330 2885   10]\n",
            " [   0    0   22   43  188]]\n",
            "Evaluation for: LR onehot\n",
            "Classifier 'LR onehot' has Acc=0.791 P=0.535 R=0.648 F1=0.579\n",
            "              precision    recall  f1-score   support\n",
            "\n",
            "           0      0.344     0.579     0.431        19\n",
            "           1      0.408     0.605     0.487       190\n",
            "           2      0.891     0.821     0.855      2730\n",
            "           3      0.708     0.767     0.736      1017\n",
            "           4      0.326     0.467     0.384        60\n",
            "\n",
            "    accuracy                          0.791      4016\n",
            "   macro avg      0.535     0.648     0.579      4016\n",
            "weighted avg      0.811     0.791     0.798      4016\n",
            "\n",
            "\n",
            "Confusion matrix:\n",
            " [[  11    6   15    0    0]\n",
            " [   4  115  157    5    1]\n",
            " [   4   65 2241  191   13]\n",
            " [   0    4  300  780   18]\n",
            " [   0    0   17   41   28]]\n"
          ],
          "name": "stdout"
        },
        {
          "output_type": "stream",
          "text": [
            "/usr/local/lib/python3.7/dist-packages/sklearn/linear_model/_sag.py:330: ConvergenceWarning: The max_iter was reached which means the coef_ did not converge\n",
            "  \"the coef_ did not converge\", ConvergenceWarning)\n"
          ],
          "name": "stderr"
        }
      ]
    },
    {
      "cell_type": "code",
      "metadata": {
        "colab": {
          "base_uri": "https://localhost:8080/"
        },
        "id": "_dIFAsiT3J9z",
        "outputId": "9fae2633-5c60-423f-c502-f18247d60260"
      },
      "source": [
        "#logistic regression modift\n",
        "#lor = LogisticRegression(penalty='l1',C=100,multi_class='ovr') \n",
        "lr = LogisticRegression(multi_class='ovr',solver='saga')\n",
        "lr_model = lr.fit(train_features, train_labels)\n",
        "lr_model.predict(validation_features)\n",
        "evaluation_summary(\"LR onehot\", lr_model.predict(validation_features), validation_labels)"
      ],
      "execution_count": null,
      "outputs": [
        {
          "output_type": "stream",
          "text": [
            "/usr/local/lib/python3.7/dist-packages/sklearn/linear_model/_sag.py:330: ConvergenceWarning: The max_iter was reached which means the coef_ did not converge\n",
            "  \"the coef_ did not converge\", ConvergenceWarning)\n",
            "/usr/local/lib/python3.7/dist-packages/sklearn/linear_model/_sag.py:330: ConvergenceWarning: The max_iter was reached which means the coef_ did not converge\n",
            "  \"the coef_ did not converge\", ConvergenceWarning)\n",
            "/usr/local/lib/python3.7/dist-packages/sklearn/linear_model/_sag.py:330: ConvergenceWarning: The max_iter was reached which means the coef_ did not converge\n",
            "  \"the coef_ did not converge\", ConvergenceWarning)\n",
            "/usr/local/lib/python3.7/dist-packages/sklearn/linear_model/_sag.py:330: ConvergenceWarning: The max_iter was reached which means the coef_ did not converge\n",
            "  \"the coef_ did not converge\", ConvergenceWarning)\n"
          ],
          "name": "stderr"
        },
        {
          "output_type": "stream",
          "text": [
            "Evaluation for: LR onehot\n",
            "Classifier 'LR onehot' has Acc=0.722 P=0.354 R=0.635 F1=0.392\n",
            "              precision    recall  f1-score   support\n",
            "\n",
            "           0      0.067     0.500     0.118         2\n",
            "           1      0.158     0.548     0.245        62\n",
            "           2      0.886     0.749     0.812      2319\n",
            "           3      0.550     0.650     0.596       715\n",
            "           4      0.110     0.727     0.190        11\n",
            "\n",
            "    accuracy                          0.722      3109\n",
            "   macro avg      0.354     0.635     0.392      3109\n",
            "weighted avg      0.791     0.722     0.748      3109\n",
            "\n",
            "\n",
            "Confusion matrix:\n",
            " [[   1    2   10    2    0]\n",
            " [   0   34  175    6    0]\n",
            " [   1   22 1737  198    3]\n",
            " [   0    4  376  465    0]\n",
            " [   0    0   21   44    8]]\n"
          ],
          "name": "stdout"
        },
        {
          "output_type": "stream",
          "text": [
            "/usr/local/lib/python3.7/dist-packages/sklearn/linear_model/_sag.py:330: ConvergenceWarning: The max_iter was reached which means the coef_ did not converge\n",
            "  \"the coef_ did not converge\", ConvergenceWarning)\n"
          ],
          "name": "stderr"
        }
      ]
    },
    {
      "cell_type": "code",
      "metadata": {
        "colab": {
          "base_uri": "https://localhost:8080/"
        },
        "id": "Tc3QlpXZ8Xx_",
        "outputId": "fa1bc630-3ddd-4ff4-f2f3-18ebff84dbc5"
      },
      "source": [
        "#decision tree\n",
        "from sklearn import tree\n",
        "tree = tree.DecisionTreeClassifier(criterion=\"entropy\", max_depth=30)\n",
        "tree_model = tree.fit(train_features, train_labels)\n",
        "tree_model.predict(train_features)\n",
        "evaluation_summary(\"DT onehot\", tree_model.predict(train_features), train_labels)\n",
        "tree_model.predict(test_features)\n",
        "evaluation_summary(\"DT onehot\", tree_model.predict(test_features), test_labels)"
      ],
      "execution_count": null,
      "outputs": [
        {
          "output_type": "stream",
          "text": [
            "Evaluation for: LR onehot\n",
            "Classifier 'LR onehot' has Acc=0.884 P=0.701 R=0.949 F1=0.791\n",
            "              precision    recall  f1-score   support\n",
            "\n",
            "           0      0.515     1.000     0.680        50\n",
            "           1      0.551     0.927     0.691       522\n",
            "           2      0.988     0.853     0.915      8900\n",
            "           3      0.751     0.975     0.849      2487\n",
            "           4      0.700     0.989     0.819       179\n",
            "\n",
            "    accuracy                          0.884     12138\n",
            "   macro avg      0.701     0.949     0.791     12138\n",
            "weighted avg      0.915     0.884     0.890     12138\n",
            "\n",
            "\n",
            "Confusion matrix:\n",
            " [[  50    0   47    0    0]\n",
            " [   0  484  390    3    1]\n",
            " [   0   36 7589   54    0]\n",
            " [   0    2  802 2426    1]\n",
            " [   0    0   72    4  177]]\n",
            "Evaluation for: LR onehot\n",
            "Classifier 'LR onehot' has Acc=0.676 P=0.400 R=0.469 F1=0.425\n",
            "              precision    recall  f1-score   support\n",
            "\n",
            "           0      0.250     0.333     0.286        24\n",
            "           1      0.294     0.474     0.363       175\n",
            "           2      0.842     0.728     0.781      2905\n",
            "           3      0.449     0.582     0.507       851\n",
            "           4      0.163     0.230     0.190        61\n",
            "\n",
            "    accuracy                          0.676      4016\n",
            "   macro avg      0.400     0.469     0.425      4016\n",
            "weighted avg      0.721     0.676     0.693      4016\n",
            "\n",
            "\n",
            "Confusion matrix:\n",
            " [[   8    7   17    0    0]\n",
            " [   8   83  171   19    1]\n",
            " [   8   76 2116  303   11]\n",
            " [   0    9  563  495   35]\n",
            " [   0    0   38   34   14]]\n"
          ],
          "name": "stdout"
        }
      ]
    },
    {
      "cell_type": "code",
      "metadata": {
        "colab": {
          "base_uri": "https://localhost:8080/"
        },
        "id": "053vPKzSJbjO",
        "outputId": "f5be21e7-7af7-4eee-8ad4-8f9119a1ffbe"
      },
      "source": [
        "#svc\n",
        "from sklearn import svm\n",
        "#clf = svm.SVC(C=1, kernel='linear', decision_function_shape='ovr')\n",
        "clf = svm.SVC(decision_function_shape='ovr')\n",
        "clf_model = clf.fit(train_features, train_labels)\n",
        "clf_model.predict(test_features)\n",
        "evaluation_summary(\"SVM onehot\", clf_model.predict(test_features), test_labels)\n",
        "evaluation_summary(\"SVM onehot\", clf_model.predict(train_features), train_labels)"
      ],
      "execution_count": null,
      "outputs": [
        {
          "output_type": "stream",
          "text": [
            "Evaluation for: LR onehot\n",
            "Classifier 'LR onehot' has Acc=0.722 P=0.293 R=0.405 F1=0.295\n",
            "              precision    recall  f1-score   support\n",
            "\n",
            "           0      0.000     0.000     0.000         0\n",
            "           1      0.039     0.579     0.073        19\n",
            "           2      0.934     0.723     0.815      3245\n",
            "           3      0.493     0.722     0.586       752\n",
            "           4      0.000     0.000     0.000         0\n",
            "\n",
            "    accuracy                          0.722      4016\n",
            "   macro avg      0.293     0.405     0.295      4016\n",
            "weighted avg      0.847     0.722     0.769      4016\n",
            "\n",
            "\n",
            "Confusion matrix:\n",
            " [[   0    4   26    2    0]\n",
            " [   0   11  264    7    0]\n",
            " [   0    3 2347  164    0]\n",
            " [   0    1  558  543    0]\n",
            " [   0    0   50   36    0]]\n"
          ],
          "name": "stdout"
        },
        {
          "output_type": "stream",
          "text": [
            "/usr/local/lib/python3.7/dist-packages/sklearn/metrics/_classification.py:1272: UndefinedMetricWarning: Recall is ill-defined and being set to 0.0 in labels with no true samples. Use `zero_division` parameter to control this behavior.\n",
            "  _warn_prf(average, modifier, msg_start, len(result))\n"
          ],
          "name": "stderr"
        },
        {
          "output_type": "stream",
          "text": [
            "Evaluation for: LR onehot\n",
            "Classifier 'LR onehot' has Acc=0.855 P=0.418 R=0.740 F1=0.444\n",
            "              precision    recall  f1-score   support\n",
            "\n",
            "           0      0.000     0.000     0.000         0\n",
            "           1      0.281     0.972     0.436       254\n",
            "           2      0.976     0.841     0.903      8916\n",
            "           3      0.815     0.888     0.850      2964\n",
            "           4      0.016     1.000     0.031         4\n",
            "\n",
            "    accuracy                          0.855     12138\n",
            "   macro avg      0.418     0.740     0.444     12138\n",
            "weighted avg      0.922     0.855     0.880     12138\n",
            "\n",
            "\n",
            "Confusion matrix:\n",
            " [[   0    5   89    3    0]\n",
            " [   0  247  616   15    0]\n",
            " [   0    2 7495  182    0]\n",
            " [   0    0  599 2632    0]\n",
            " [   0    0  117  132    4]]\n"
          ],
          "name": "stdout"
        }
      ]
    },
    {
      "cell_type": "code",
      "metadata": {
        "id": "yrEFSewqGUWy"
      },
      "source": [
        "#tabel for result\n",
        "data=np.random.randn(6,4)#创建一个6行4列的数组\n",
        "Accuracy and weighted average precision / recall / F1\n",
        "df=pd.DataFrame(data,columns=['Dummy1','Dummy2','LogisticRegression1','LogisticRegression2','SVC Classifier','decision tree'],index=['accuracy','precision','recall','f1'])"
      ],
      "execution_count": null,
      "outputs": []
    },
    {
      "cell_type": "code",
      "metadata": {
        "colab": {
          "base_uri": "https://localhost:8080/",
          "height": 279
        },
        "id": "4eSqU5IVNwTo",
        "outputId": "5aeb8891-b6ef-4f51-bf5a-a9c114f0ee50"
      },
      "source": [
        "#f1 bar chart\n",
        "import matplotlib.pyplot as plt\n",
        "import matplotlib as mpl\n",
        "import numpy as np\n",
        "\n",
        "mpl.rcParams[\"font.sans-serif\"] = [\"SimHei\"]\n",
        "mpl.rcParams[\"axes.unicode_minus\"] = False\n",
        "\n",
        "train = [0.484,0.751,0.930,0.875,0.687]\n",
        "test = [0.059,0.242,0.804,0.602,0.081]\n",
        "x = np.arange(5)\n",
        "bar_width = 0.35\n",
        "tick_label = [\"very negative\", \"negative\", \"neutral\", \"positive\", \"negative\"]\n",
        "\n",
        "plt.bar(x, train, bar_width, align=\"center\", color=\"c\", label=\"train\", alpha=0.5)\n",
        "plt.bar(x+bar_width, test, bar_width, color=\"b\", align=\"center\", label=\"test\", alpha=0.5)\n",
        "\n",
        "plt.xlabel(\"classes\")\n",
        "plt.ylabel(\"F1 socre\")\n",
        "\n",
        "plt.xticks(x+bar_width/2, tick_label)\n",
        "\n",
        "plt.legend()\n",
        "\n",
        "plt.show()"
      ],
      "execution_count": null,
      "outputs": [
        {
          "output_type": "display_data",
          "data": {
            "image/png": "[encoded data removed]",
            "text/plain": [
              "<Figure size 432x288 with 1 Axes>"
            ]
          },
          "metadata": {
            "tags": [],
            "needs_background": "light"
          }
        }
      ]
    },
    {
      "cell_type": "code",
      "metadata": {
        "id": "EAHsj1K2SG3X"
      },
      "source": [
        "#using pipline to tune the data\n",
        "from sklearn.pipeline import Pipeline\n",
        "\n",
        "prediction_pipeline = Pipeline([\n",
        "              ('selector', ItemSelector(key='reviewText')),\n",
        "              ('one-hot', CountVectorizer(binary=True)),\n",
        "              ('logreg', LogisticRegression(solver='saga', max_iter=9000))\n",
        "              ])\n",
        "prediction_pipeline.fit(train_data, train_labels)\n",
        "evaluation_summary(\"LR\", prediction_pipeline.predict(validation_data), validation_labels) \n",
        "\n",
        "from sklearn.model_selection import GridSearchCV\n",
        "params = {\n",
        "   'one-hot__binary': (True, False), \n",
        "}\n",
        "grid_search = GridSearchCV(prediction_pipeline, param_grid=params, n_jobs=1, verbose=1, scoring='f1_macro', cv=2)\n",
        "print(\"Performing grid search...\")\n",
        "print(\"pipeline:\", [name for name, _ in prediction_pipeline.steps])\n",
        "print(\"parameters:\")\n",
        "print(params)\n",
        "grid_search.fit(train_data, train_labels)\n",
        "\n",
        "print(\"Best score: %0.3f\" % grid_search.best_score_)\n",
        "print(\"Best parameters set:\")\n",
        "best_parameters = grid_search.best_estimator_.get_params()\n",
        "for param_name in sorted(params.keys()):\n",
        "  print(\"\\t%s: %r\" % (param_name, best_parameters[param_name]))"
      ],
      "execution_count": null,
      "outputs": []
    },
    {
      "cell_type": "code",
      "metadata": {
        "id": "ciWxUwjo94CU"
      },
      "source": [
        "from sklearn.base import BaseEstimator, TransformerMixin\n",
        "\n",
        "class ItemSelector(BaseEstimator, TransformerMixin):\n",
        "    \"\"\"For data grouped by feature, select subset of data at a provided key.    \"\"\"\n",
        "\n",
        "    def __init__(self, key):\n",
        "        self.key = key\n",
        "\n",
        "    def fit(self, x, y=None):\n",
        "        return self\n",
        "\n",
        "    def transform(self, data_dict):\n",
        "        return data_dict[self.key]"
      ],
      "execution_count": null,
      "outputs": []
    },
    {
      "cell_type": "code",
      "metadata": {
        "id": "_ZTkHB8tOtkJ",
        "colab": {
          "base_uri": "https://localhost:8080/"
        },
        "outputId": "286c8d8c-4a1a-47d2-b30d-ef258bb86141"
      },
      "source": [
        "#adding feature\n",
        "from sklearn.pipeline import FeatureUnion\n",
        "from sklearn.pipeline import Pipeline\n",
        "from sklearn.feature_extraction.text import CountVectorizer\n",
        "\n",
        "# Use FeatureUnion to combine the features from text and summary\n",
        "prediction_pipeline = Pipeline([\n",
        "        ('union', FeatureUnion(\n",
        "          transformer_list=[\n",
        "            ('text', Pipeline([\n",
        "              ('selector', ItemSelector(key='body')),\n",
        "              ('one-hot', TfidfVectorizer(sublinear_tf = True, max_features = 8000, max_df=0.8)), \n",
        "              ])),\n",
        "            ('summary1', Pipeline([\n",
        "              ('selector', ItemSelector(key='title')),\n",
        "              ('one-hot', TfidfVectorizer(sublinear_tf = True, max_features = 8000)), \n",
        "              ])),\n",
        "            ('summary2', Pipeline([\n",
        "              ('selector', ItemSelector(key='author')),\n",
        "              ('one-hot', TfidfVectorizer(sublinear_tf = True, max_features = 8000)), \n",
        "              ]))\n",
        "        ])\n",
        "        )\n",
        "    ])\n",
        "\n",
        "one_hot_train_features = prediction_pipeline.fit_transform(train_data)\n",
        "one_hot_validation_features = prediction_pipeline.transform(validation_data)\n",
        "one_hot_test_features = prediction_pipeline.transform(test_data)\n",
        "\n",
        "lr = LogisticRegression(solver='saga',penalty = 'l1',C = 4)\n",
        "combined_model = lr.fit(one_hot_train_features,train_labels)\n",
        "evaluation_summary(\"LR TFIDF\", combined_model.predict(one_hot_test_features), test_labels)\n",
        "evaluation_summary(\"LR TFIDF\", combined_model.predict(one_hot_train_features), train_labels)\n",
        "evaluation_summary(\"LR TFIDF\", combined_model.predict(one_hot_validation_features), validation_labels)"
      ],
      "execution_count": null,
      "outputs": [
        {
          "output_type": "stream",
          "text": [
            "Evaluation for: LR TFIDF\n",
            "Classifier 'LR TFIDF' has Acc=0.783 P=0.492 R=0.679 F1=0.551\n",
            "              precision    recall  f1-score   support\n",
            "\n",
            "           0      0.281     0.600     0.383        15\n",
            "           1      0.273     0.602     0.376       128\n",
            "           2      0.915     0.797     0.852      2886\n",
            "           3      0.663     0.776     0.715       942\n",
            "           4      0.326     0.622     0.427        45\n",
            "\n",
            "    accuracy                          0.783      4016\n",
            "   macro avg      0.492     0.679     0.551      4016\n",
            "weighted avg      0.826     0.783     0.798      4016\n",
            "\n",
            "\n",
            "Confusion matrix:\n",
            " [[   9    6   17    0    0]\n",
            " [   3   77  194    8    0]\n",
            " [   3   40 2300  167    4]\n",
            " [   0    5  353  731   13]\n",
            " [   0    0   22   36   28]]\n",
            "Evaluation for: LR TFIDF\n",
            "Classifier 'LR TFIDF' has Acc=0.987 P=0.964 R=0.993 F1=0.978\n",
            "              precision    recall  f1-score   support\n",
            "\n",
            "           0      0.928     1.000     0.963        90\n",
            "           1      0.958     0.994     0.976       846\n",
            "           2      0.996     0.985     0.991      7766\n",
            "           3      0.977     0.989     0.983      3192\n",
            "           4      0.960     0.996     0.978       244\n",
            "\n",
            "    accuracy                          0.987     12138\n",
            "   macro avg      0.964     0.993     0.978     12138\n",
            "weighted avg      0.987     0.987     0.987     12138\n",
            "\n",
            "\n",
            "Confusion matrix:\n",
            " [[  90    1    6    0    0]\n",
            " [   0  841   34    3    0]\n",
            " [   0    2 7650   27    0]\n",
            " [   0    2   70 3158    1]\n",
            " [   0    0    6    4  243]]\n",
            "Evaluation for: LR TFIDF\n",
            "Classifier 'LR TFIDF' has Acc=0.767 P=0.469 R=0.632 F1=0.522\n",
            "              precision    recall  f1-score   support\n",
            "\n",
            "           0      0.200     0.429     0.273         7\n",
            "           1      0.353     0.594     0.443       128\n",
            "           2      0.900     0.789     0.841      2236\n",
            "           3      0.619     0.742     0.675       705\n",
            "           4      0.274     0.606     0.377        33\n",
            "\n",
            "    accuracy                          0.767      3109\n",
            "   macro avg      0.469     0.632     0.522      3109\n",
            "weighted avg      0.805     0.767     0.780      3109\n",
            "\n",
            "\n",
            "Confusion matrix:\n",
            " [[   3    1   11    0    0]\n",
            " [   0   76  136    3    0]\n",
            " [   3   44 1764  144    6]\n",
            " [   1    6  308  523    7]\n",
            " [   0    1   17   35   20]]\n"
          ],
          "name": "stdout"
        },
        {
          "output_type": "stream",
          "text": [
            "/usr/local/lib/python3.7/dist-packages/sklearn/linear_model/_sag.py:330: ConvergenceWarning: The max_iter was reached which means the coef_ did not converge\n",
            "  \"the coef_ did not converge\", ConvergenceWarning)\n"
          ],
          "name": "stderr"
        }
      ]
    }
  ]
}